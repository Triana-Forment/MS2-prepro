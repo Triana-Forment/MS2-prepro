{
 "cells": [
  {
   "cell_type": "markdown",
   "metadata": {},
   "source": [
    "From PXD030595 (HCD) take raw data \"2021-5-21_Otter_v9.raw\"\n"
   ]
  },
  {
   "cell_type": "markdown",
   "metadata": {},
   "source": [
    "To convert raw data: mono /home/tribiosis/install/ThermoRawFileParser/ThermoRawFileParser.exe -i=/home/tribiosis/Master/master_thesis/prepro_test/2021-5-21_Otter_v9.raw -o=/home/tribiosis/Master/master_thesis/prepro_test/ -f=0 -g -m=0"
   ]
  },
  {
   "cell_type": "code",
   "execution_count": 1,
   "metadata": {},
   "outputs": [],
   "source": [
    "import numpy as np\n",
    "import pandas as pd\n",
    "from pyteomics import mgf\n",
    "import matplotlib.pyplot as plt"
   ]
  },
  {
   "cell_type": "code",
   "execution_count": 2,
   "metadata": {},
   "outputs": [
    {
     "name": "stdout",
     "output_type": "stream",
     "text": [
      "765.797485351563 2\n",
      "399.349365234375 2\n"
     ]
    }
   ],
   "source": [
    "reader = mgf.read('test.mgf')\n",
    "for spectrum in reader:\n",
    "    print(spectrum[\"params\"][\"pepmass\"][0], int(str(spectrum[\"params\"][\"charge\"][0])[:1]))"
   ]
  },
  {
   "cell_type": "code",
   "execution_count": 3,
   "metadata": {},
   "outputs": [
    {
     "name": "stdout",
     "output_type": "stream",
     "text": [
      "[ 5909.70117188  7664.00683594  8281.00195312  7887.60986328\n",
      "  8942.16503906  7136.56396484  8047.40185547 10000.33333333]\n",
      "[ 4071.96533203  6770.89697266  4803.41113281  4926.58984375\n",
      "  8080.02294922  6177.65283203  7475.65625     5837.67724609\n",
      "  6427.96142578  6950.28662109 10061.36035156 12399.53515625\n",
      "  6932.38183594]\n"
     ]
    }
   ],
   "source": [
    "reader = mgf.read('test.mgf')\n",
    "for spectrum in reader:\n",
    "    print(spectrum[\"intensity array\"])"
   ]
  },
  {
   "cell_type": "markdown",
   "metadata": {},
   "source": [
    "\"Rank_TIC normalizes I(pi) in P by computing the sum of all raw intensities I(pk) in P that are smaller than I(pi) and dividing this sum by the total ion current of P. So,the highest peak I(pj) equals 1. All other peaks pi are scaled relative to the total ion current of all peaks (that are less abundant than pi)\". This last part in the parenthesis is not true, otherwise all peaks will be more than 1. It's always divided by the TIC, which accounts for every peak in the spectrum."
   ]
  },
  {
   "cell_type": "code",
   "execution_count": 4,
   "metadata": {},
   "outputs": [],
   "source": [
    "def rank_TIC_normalization(input_file, output_file):\n",
    "\n",
    "    \"\"\"\n",
    "    Normalizes spectra intensities taking into account their rank and the total ion current.\n",
    "    \n",
    "    Parameters\n",
    "    ----------\n",
    "        input_file : path to the mgf file to normalize\n",
    "        output_file : name of the mgf file normalized\n",
    "        \n",
    "    Returns\n",
    "    -------\n",
    "        Nothing, it writes an mgf file with the intensities normalized \n",
    "    \"\"\"\n",
    "    reader = mgf.read(input_file)\n",
    "    for spectrum in reader:\n",
    "        spec_len = len(spectrum[\"intensity array\"]) # Number of ions in MS2 spectrum\n",
    "        TIC = np.sum(spectrum[\"intensity array\"]) # Total ion current\n",
    "        original_order = spectrum[\"intensity array\"].argsort().argsort() # get index to restore order\n",
    "        sorted_int = np.sort(spectrum[\"intensity array\"])\n",
    "        normalized = np.zeros([spec_len,])\n",
    "        for index in range(spec_len):\n",
    "            normalized[index] = np.sum(sorted_int[:index+1])/TIC\n",
    "        spectrum[\"intensity array\"] = normalized[original_order]\n",
    "        mgf.write((spectrum,), output_file, file_mode='a')\n"
   ]
  },
  {
   "cell_type": "code",
   "execution_count": 5,
   "metadata": {},
   "outputs": [],
   "source": [
    "rank_TIC_normalization(\"test.mgf\", \"normalized_test.mgf\")"
   ]
  },
  {
   "cell_type": "code",
   "execution_count": 6,
   "metadata": {},
   "outputs": [],
   "source": [
    "def plot_spectrum(input_file, title):\n",
    "    reader = mgf.read(input_file)\n",
    "    for spectrum in reader:\n",
    "        y = spectrum[\"intensity array\"]\n",
    "        x = spectrum[\"m/z array\"]\n",
    "        zipped = list(zip(x, y))\n",
    "        df = pd.DataFrame(zipped, columns=['m/z', 'Intensity'])\n",
    "        plt.stem('m/z', 'Intensity', data=df, basefmt=\"C2\", linefmt='black', label= \"m/z values\")\n",
    "        plt.ylabel('Intensity')\n",
    "        plt.xlabel('m/z')\n",
    "        plt.title(title)\n",
    "        plt.show()"
   ]
  },
  {
   "cell_type": "code",
   "execution_count": 9,
   "metadata": {},
   "outputs": [],
   "source": [
    "def plot_spectrum_from_reader(spectrum, title):\n",
    "    y = spectrum[\"intensity array\"]\n",
    "    x = spectrum[\"m/z array\"]\n",
    "    zipped = list(zip(x, y))\n",
    "    df = pd.DataFrame(zipped, columns=['m/z', 'Intensity'])\n",
    "    plt.stem('m/z', 'Intensity', data=df, basefmt=\"C2\", linefmt='black', label= \"m/z values\")\n",
    "    plt.ylabel('Intensity')\n",
    "    plt.xlabel('m/z')\n",
    "    plt.title(title)\n",
    "    plt.show()"
   ]
  },
  {
   "cell_type": "code",
   "execution_count": 10,
   "metadata": {},
   "outputs": [
    {
     "data": {
      "image/png": "[encoded data removed]",
      "text/plain": [
       "<Figure size 432x288 with 1 Axes>"
      ]
     },
     "metadata": {
      "needs_background": "light"
     },
     "output_type": "display_data"
    }
   ],
   "source": [
    "reader = mgf.read('test.mgf')\n",
    "for spectrum in reader[0:1]: #read the first uncalibrated spectrum \n",
    "    plot_spectrum_from_reader(spectrum, \"Spectrum without normalization\")"
   ]
  },
  {
   "cell_type": "code",
   "execution_count": 12,
   "metadata": {},
   "outputs": [
    {
     "data": {
      "image/png": "[encoded data removed]",
      "text/plain": [
       "<Figure size 432x288 with 1 Axes>"
      ]
     },
     "metadata": {
      "needs_background": "light"
     },
     "output_type": "display_data"
    }
   ],
   "source": [
    "reader = mgf.read('normalized_test.mgf')\n",
    "for spectrum in reader[0:1]: #read the first uncalibrated spectrum \n",
    "    plot_spectrum_from_reader(spectrum, \"Spectrum with rank-TIC normalization\")"
   ]
  },
  {
   "cell_type": "code",
   "execution_count": 13,
   "metadata": {},
   "outputs": [
    {
     "data": {
      "image/png": "[encoded data removed]",
      "text/plain": [
       "<Figure size 432x288 with 1 Axes>"
      ]
     },
     "metadata": {
      "needs_background": "light"
     },
     "output_type": "display_data"
    }
   ],
   "source": [
    "reader = mgf.read('test.mgf')\n",
    "for spectrum in reader[1:2]: #read the first uncalibrated spectrum \n",
    "    plot_spectrum_from_reader(spectrum, \"Spectrum without normalization\")"
   ]
  },
  {
   "cell_type": "code",
   "execution_count": 14,
   "metadata": {},
   "outputs": [
    {
     "data": {
      "image/png": "[encoded data removed]",
      "text/plain": [
       "<Figure size 432x288 with 1 Axes>"
      ]
     },
     "metadata": {
      "needs_background": "light"
     },
     "output_type": "display_data"
    }
   ],
   "source": [
    "reader = mgf.read('normalized_test.mgf')\n",
    "for spectrum in reader[1:2]: #read the first uncalibrated spectrum \n",
    "    plot_spectrum_from_reader(spectrum, \"Spectrum with rank-TIC normalization\")"
   ]
  },
  {
   "cell_type": "code",
   "execution_count": null,
   "metadata": {},
   "outputs": [],
   "source": [
    "import time\n",
    "start = time.time()\n",
    "rank_TIC_normalization(\"data.mgf\", \"normalized_long.mgf\")\n",
    "end = time.time()\n",
    "print (\"Time elapsed normalizing mgf file of 151M:\", end - start)"
   ]
  },
  {
   "cell_type": "markdown",
   "metadata": {},
   "source": [
    "Function to remove precursion fragment ion from spectrum_utils"
   ]
  },
  {
   "cell_type": "code",
   "execution_count": 15,
   "metadata": {},
   "outputs": [],
   "source": [
    "def mass_diff(mz1, mz2, mode_is_da):\n",
    "    \"\"\"\n",
    "    Calculate the mass difference(s).\n",
    "    Parameters\n",
    "    ----------\n",
    "    mz1\n",
    "        First m/z value(s).\n",
    "    mz2\n",
    "        Second m/z value(s).\n",
    "    mode_is_da : bool\n",
    "        Mass difference in Dalton (True) or in ppm (False).\n",
    "    Returns\n",
    "    -------\n",
    "        The mass difference(s) between the given m/z values.\n",
    "    \"\"\"\n",
    "    return mz1 - mz2 if mode_is_da else (mz1 - mz2) / mz2 * 10 ** 6"
   ]
  },
  {
   "cell_type": "code",
   "execution_count": 16,
   "metadata": {},
   "outputs": [],
   "source": [
    "def _get_non_precursor_peak_mask(\n",
    "    mz: np.ndarray,\n",
    "    pep_mass: float,\n",
    "    max_charge: int,\n",
    "    isotope: int,\n",
    "    fragment_tol_mass: float,\n",
    "    fragment_tol_mode: str,\n",
    ") -> np.ndarray:\n",
    "    \"\"\"\n",
    "    Get a mask to remove peaks that are close to the precursor mass peak (at\n",
    "    different charges and isotopes).\n",
    "    JIT helper function for `MsmsSpectrum.remove_precursor_peak`.\n",
    "    Parameters\n",
    "    ----------\n",
    "    mz : np.ndarray\n",
    "        The mass-to-charge ratios of the spectrum fragment peaks.\n",
    "    pep_mass : float\n",
    "        The mono-isotopic mass of the uncharged peptide.\n",
    "    max_charge : int\n",
    "        The maximum precursor loss charge.\n",
    "    isotope : int\n",
    "        The number of isotopic peaks to be checked.\n",
    "    fragment_tol_mass : float\n",
    "            Fragment mass tolerance around the precursor mass to remove the\n",
    "            precursor peak.\n",
    "    fragment_tol_mode : {'Da', 'ppm'}\n",
    "            Fragment mass tolerance unit. Either 'Da' or 'ppm'.\n",
    "    Returns\n",
    "    -------\n",
    "    np.ndarray\n",
    "        Index mask specifying which peaks are retained after precursor peak\n",
    "        filtering.\n",
    "    \"\"\"\n",
    "    remove_mz = []\n",
    "    for charge in range(max_charge, 0, -1):\n",
    "        for iso in range(isotope + 1):\n",
    "            remove_mz.append((pep_mass + iso) / charge + 1.0072766)\n",
    "\n",
    "    mask = np.full_like(mz, True, np.bool_)\n",
    "    mz_i = remove_i = 0\n",
    "    while mz_i < len(mz) and remove_i < len(remove_mz):\n",
    "        md = mass_diff(\n",
    "            mz[mz_i], remove_mz[remove_i], fragment_tol_mode == \"Da\"\n",
    "        )\n",
    "        if md < -fragment_tol_mass:\n",
    "            mz_i += 1\n",
    "        elif md > fragment_tol_mass:\n",
    "            remove_i += 1\n",
    "        else:\n",
    "            mask[mz_i] = False\n",
    "            mz_i += 1\n",
    "\n",
    "    return mask"
   ]
  },
  {
   "cell_type": "code",
   "execution_count": 17,
   "metadata": {},
   "outputs": [],
   "source": [
    "def remove_precursor_peak(\n",
    "        input_file,\n",
    "        output_file,\n",
    "        fragment_tol_mass: float,\n",
    "        fragment_tol_mode: str,\n",
    "        isotope: int = 0,\n",
    "    ):\n",
    "        \"\"\"\n",
    "        Remove fragment peak(s) close to the precursor m/z.\n",
    "        Parameters\n",
    "        ----------\n",
    "        input_file : path to the mgf file to remove precursor peak\n",
    "        output_file : name of the mgf file with the precursor peak removed\n",
    "        fragment_tol_mass : float\n",
    "            Fragment mass tolerance around the precursor mass to remove the\n",
    "            precursor peak.\n",
    "        fragment_tol_mode : {'Da', 'ppm'}\n",
    "            Fragment mass tolerance unit. Either 'Da' or 'ppm'.\n",
    "        isotope : int\n",
    "            The number of precursor isotopic peaks to be checked (the default\n",
    "            is 0 to check only the mono-isotopic peaks).\n",
    "        Returns\n",
    "        -------\n",
    "        Nothing, it writes an mgf file with the name set in 'output_file'        \n",
    "        \"\"\"\n",
    "        reader = mgf.read(input_file)\n",
    "        for spectrum in reader:\n",
    "            mz = spectrum[\"m/z array\"]\n",
    "            intensity = spectrum[\"intensity array\"]\n",
    "            precursor_mz = spectrum[\"params\"][\"pepmass\"][0]\n",
    "            precursor_charge = int(str(spectrum[\"params\"][\"charge\"][0])[:1]) \n",
    "            neutral_mass = (precursor_mz - 1.0072766) * precursor_charge\n",
    "            peak_mask = _get_non_precursor_peak_mask(mz, neutral_mass, precursor_charge, isotope, fragment_tol_mass,\n",
    "            fragment_tol_mode)\n",
    "            spectrum[\"m/z array\"] = mz[peak_mask]\n",
    "            spectrum[\"intensity array\"] = intensity[peak_mask]\n",
    "            mgf.write((spectrum,), output_file, file_mode='a')\n"
   ]
  },
  {
   "cell_type": "code",
   "execution_count": 19,
   "metadata": {},
   "outputs": [],
   "source": [
    "remove_precursor_peak(\"test.mgf\", \"precremoved.mgf\", 10, \"Da\")"
   ]
  },
  {
   "cell_type": "code",
   "execution_count": 26,
   "metadata": {},
   "outputs": [
    {
     "name": "stdout",
     "output_type": "stream",
     "text": [
      "Precursor m/z = 765.797485351563\n"
     ]
    },
    {
     "data": {
      "image/png": "[encoded data removed]",
      "text/plain": [
       "<Figure size 432x288 with 1 Axes>"
      ]
     },
     "metadata": {
      "needs_background": "light"
     },
     "output_type": "display_data"
    }
   ],
   "source": [
    "reader = mgf.read('test.mgf')\n",
    "for spectrum in reader[0:1]: #read the first uncalibrated spectrum \n",
    "    print(\"Precursor m/z =\", spectrum[\"params\"][\"pepmass\"][0])\n",
    "    plot_spectrum_from_reader(spectrum, \"Spectrum with precursor ion\")"
   ]
  },
  {
   "cell_type": "code",
   "execution_count": 22,
   "metadata": {},
   "outputs": [
    {
     "data": {
      "image/png": "[encoded data removed]",
      "text/plain": [
       "<Figure size 432x288 with 1 Axes>"
      ]
     },
     "metadata": {
      "needs_background": "light"
     },
     "output_type": "display_data"
    }
   ],
   "source": [
    "reader = mgf.read('precremoved.mgf')\n",
    "for spectrum in reader[0:1]: #read the first uncalibrated spectrum \n",
    "    plot_spectrum_from_reader(spectrum, \"Spectrum without precursor ion\")"
   ]
  },
  {
   "cell_type": "code",
   "execution_count": 27,
   "metadata": {},
   "outputs": [
    {
     "name": "stdout",
     "output_type": "stream",
     "text": [
      "Precursor m/z = 399.349365234375\n"
     ]
    },
    {
     "data": {
      "image/png": "[encoded data removed]",
      "text/plain": [
       "<Figure size 432x288 with 1 Axes>"
      ]
     },
     "metadata": {
      "needs_background": "light"
     },
     "output_type": "display_data"
    }
   ],
   "source": [
    "reader = mgf.read('test.mgf')\n",
    "for spectrum in reader[1:2]: #read the first uncalibrated spectrum \n",
    "    print(\"Precursor m/z =\", spectrum[\"params\"][\"pepmass\"][0])\n",
    "    plot_spectrum_from_reader(spectrum, \"Spectrum with precursor ion\")"
   ]
  },
  {
   "cell_type": "code",
   "execution_count": 25,
   "metadata": {},
   "outputs": [
    {
     "data": {
      "image/png": "[encoded data removed]",
      "text/plain": [
       "<Figure size 432x288 with 1 Axes>"
      ]
     },
     "metadata": {
      "needs_background": "light"
     },
     "output_type": "display_data"
    }
   ],
   "source": [
    "reader = mgf.read('precremoved.mgf')\n",
    "for spectrum in reader[1:2]: #read the first uncalibrated spectrum \n",
    "    plot_spectrum_from_reader(spectrum, \"Spectrum without precursor ion\")"
   ]
  },
  {
   "cell_type": "code",
   "execution_count": 247,
   "metadata": {},
   "outputs": [
    {
     "name": "stdout",
     "output_type": "stream",
     "text": [
      "Time elapsed removing precursor peak from mgf file of 151M: 197.07010889053345\n"
     ]
    }
   ],
   "source": [
    "import time\n",
    "start = time.time()\n",
    "remove_precursor_peak_1(\"data.mgf\", \"prec_removed_long.mgf\", 10, \"ppm\")\n",
    "end = time.time()\n",
    "print (\"Time elapsed removing precursor peak from mgf file of 151M:\", end - start)"
   ]
  }
 ],
 "metadata": {
  "kernelspec": {
   "display_name": "Python 3 (ipykernel)",
   "language": "python",
   "name": "python3"
  },
  "language_info": {
   "codemirror_mode": {
    "name": "ipython",
    "version": 3
   },
   "file_extension": ".py",
   "mimetype": "text/x-python",
   "name": "python",
   "nbconvert_exporter": "python",
   "pygments_lexer": "ipython3",
   "version": "3.10.0"
  }
 },
 "nbformat": 4,
 "nbformat_minor": 2
}
