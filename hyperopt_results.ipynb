{
 "cells": [
  {
   "cell_type": "code",
   "execution_count": 1,
   "id": "942a8f8a",
   "metadata": {},
   "outputs": [
    {
     "name": "stderr",
     "output_type": "stream",
     "text": [
      "\n",
      "Bad key \"text.kerning_factor\" on line 4 in\n",
      "/home/tribiosis/miniconda3/envs/plt2/lib/python3.7/site-packages/matplotlib/mpl-data/stylelib/_classic_test_patch.mplstyle.\n",
      "You probably need to get an updated matplotlibrc file from\n",
      "http://github.com/matplotlib/matplotlib/blob/master/matplotlibrc.template\n",
      "or from the matplotlib source distribution\n"
     ]
    }
   ],
   "source": [
    "import pandas as pd\n",
    "import numpy as np\n",
    "import matplotlib.pyplot as plt\n",
    "import seaborn as sns\n",
    "import glob"
   ]
  },
  {
   "cell_type": "code",
   "execution_count": 3,
   "id": "7029632c",
   "metadata": {},
   "outputs": [],
   "source": [
    "# Precursor ion removed\n",
    "df =  pd.read_csv(\"immunopeptide_precrem_05Da_resultsY\")"
   ]
  },
  {
   "cell_type": "code",
   "execution_count": 4,
   "id": "6eef1d5e",
   "metadata": {},
   "outputs": [
    {
     "data": {
      "text/html": [
       "<div>\n",
       "<style scoped>\n",
       "    .dataframe tbody tr th:only-of-type {\n",
       "        vertical-align: middle;\n",
       "    }\n",
       "\n",
       "    .dataframe tbody tr th {\n",
       "        vertical-align: top;\n",
       "    }\n",
       "\n",
       "    .dataframe thead th {\n",
       "        text-align: right;\n",
       "    }\n",
       "</style>\n",
       "<table border=\"1\" class=\"dataframe\">\n",
       "  <thead>\n",
       "    <tr style=\"text-align: right;\">\n",
       "      <th></th>\n",
       "      <th>Unnamed: 0</th>\n",
       "      <th>test-rmse-mean</th>\n",
       "      <th>nthread</th>\n",
       "      <th>objective</th>\n",
       "      <th>eval_metric</th>\n",
       "      <th>eta</th>\n",
       "      <th>max_depth</th>\n",
       "      <th>grow_policy</th>\n",
       "      <th>max_leaves</th>\n",
       "      <th>min_child_weight</th>\n",
       "      <th>gamma</th>\n",
       "      <th>reg_lambda</th>\n",
       "      <th>colsample_bytree</th>\n",
       "      <th>subsample</th>\n",
       "      <th>reg_alpha</th>\n",
       "    </tr>\n",
       "  </thead>\n",
       "  <tbody>\n",
       "    <tr>\n",
       "      <th>0</th>\n",
       "      <td>0</td>\n",
       "      <td>0.895862</td>\n",
       "      <td>64</td>\n",
       "      <td>reg:squarederror</td>\n",
       "      <td>rmse</td>\n",
       "      <td>0.246381</td>\n",
       "      <td>18</td>\n",
       "      <td>lossguide</td>\n",
       "      <td>30</td>\n",
       "      <td>185</td>\n",
       "      <td>0.580670</td>\n",
       "      <td>0.520216</td>\n",
       "      <td>0.671758</td>\n",
       "      <td>0.9</td>\n",
       "      <td>4.7</td>\n",
       "    </tr>\n",
       "    <tr>\n",
       "      <th>24</th>\n",
       "      <td>24</td>\n",
       "      <td>0.902996</td>\n",
       "      <td>64</td>\n",
       "      <td>reg:squarederror</td>\n",
       "      <td>rmse</td>\n",
       "      <td>0.030594</td>\n",
       "      <td>17</td>\n",
       "      <td>lossguide</td>\n",
       "      <td>177</td>\n",
       "      <td>224</td>\n",
       "      <td>0.587474</td>\n",
       "      <td>0.957030</td>\n",
       "      <td>0.820465</td>\n",
       "      <td>0.7</td>\n",
       "      <td>2.7</td>\n",
       "    </tr>\n",
       "    <tr>\n",
       "      <th>23</th>\n",
       "      <td>23</td>\n",
       "      <td>0.904810</td>\n",
       "      <td>64</td>\n",
       "      <td>reg:squarederror</td>\n",
       "      <td>rmse</td>\n",
       "      <td>0.039111</td>\n",
       "      <td>15</td>\n",
       "      <td>lossguide</td>\n",
       "      <td>31</td>\n",
       "      <td>258</td>\n",
       "      <td>0.582428</td>\n",
       "      <td>0.963247</td>\n",
       "      <td>0.819370</td>\n",
       "      <td>0.8</td>\n",
       "      <td>2.0</td>\n",
       "    </tr>\n",
       "    <tr>\n",
       "      <th>19</th>\n",
       "      <td>19</td>\n",
       "      <td>0.914937</td>\n",
       "      <td>64</td>\n",
       "      <td>reg:squarederror</td>\n",
       "      <td>rmse</td>\n",
       "      <td>0.301775</td>\n",
       "      <td>14</td>\n",
       "      <td>lossguide</td>\n",
       "      <td>23</td>\n",
       "      <td>277</td>\n",
       "      <td>0.129246</td>\n",
       "      <td>0.024805</td>\n",
       "      <td>0.771176</td>\n",
       "      <td>0.8</td>\n",
       "      <td>1.9</td>\n",
       "    </tr>\n",
       "    <tr>\n",
       "      <th>16</th>\n",
       "      <td>16</td>\n",
       "      <td>0.919948</td>\n",
       "      <td>64</td>\n",
       "      <td>reg:squarederror</td>\n",
       "      <td>rmse</td>\n",
       "      <td>0.083352</td>\n",
       "      <td>11</td>\n",
       "      <td>lossguide</td>\n",
       "      <td>421</td>\n",
       "      <td>247</td>\n",
       "      <td>0.684176</td>\n",
       "      <td>0.523978</td>\n",
       "      <td>0.938035</td>\n",
       "      <td>0.9</td>\n",
       "      <td>3.1</td>\n",
       "    </tr>\n",
       "  </tbody>\n",
       "</table>\n",
       "</div>"
      ],
      "text/plain": [
       "    Unnamed: 0  test-rmse-mean  nthread         objective eval_metric  \\\n",
       "0            0        0.895862       64  reg:squarederror        rmse   \n",
       "24          24        0.902996       64  reg:squarederror        rmse   \n",
       "23          23        0.904810       64  reg:squarederror        rmse   \n",
       "19          19        0.914937       64  reg:squarederror        rmse   \n",
       "16          16        0.919948       64  reg:squarederror        rmse   \n",
       "\n",
       "         eta  max_depth grow_policy  max_leaves  min_child_weight     gamma  \\\n",
       "0   0.246381         18   lossguide          30               185  0.580670   \n",
       "24  0.030594         17   lossguide         177               224  0.587474   \n",
       "23  0.039111         15   lossguide          31               258  0.582428   \n",
       "19  0.301775         14   lossguide          23               277  0.129246   \n",
       "16  0.083352         11   lossguide         421               247  0.684176   \n",
       "\n",
       "    reg_lambda  colsample_bytree  subsample  reg_alpha  \n",
       "0     0.520216          0.671758        0.9        4.7  \n",
       "24    0.957030          0.820465        0.7        2.7  \n",
       "23    0.963247          0.819370        0.8        2.0  \n",
       "19    0.024805          0.771176        0.8        1.9  \n",
       "16    0.523978          0.938035        0.9        3.1  "
      ]
     },
     "execution_count": 4,
     "metadata": {},
     "output_type": "execute_result"
    }
   ],
   "source": [
    "df_sorted = df.sort_values(by=['test-rmse-mean'], ascending=True)\n",
    "df_sorted.head()"
   ]
  },
  {
   "cell_type": "code",
   "execution_count": 5,
   "id": "21671119",
   "metadata": {},
   "outputs": [
    {
     "data": {
      "text/plain": [
       "{'nthread': 64,\n",
       " 'objective': 'reg:squarederror',\n",
       " 'eval_metric': 'rmse',\n",
       " 'eta': 0.2463810001272822,\n",
       " 'max_depth': 18,\n",
       " 'grow_policy': 'lossguide',\n",
       " 'max_leaves': 30,\n",
       " 'min_child_weight': 185,\n",
       " 'gamma': 0.5806703023989503,\n",
       " 'subsample': 0.9,\n",
       " 'reg_lambda': 0.5202158547927183,\n",
       " 'colsample_bytree': 0.6717576535790775,\n",
       " 'reg_alpha': 4.7}"
      ]
     },
     "execution_count": 5,
     "metadata": {},
     "output_type": "execute_result"
    }
   ],
   "source": [
    "params = {\n",
    "    \"nthread\": df_sorted.iloc[0][\"nthread\"],\n",
    "    \"objective\": df_sorted.iloc[0][\"objective\"],\n",
    "    \"eval_metric\": df_sorted.iloc[0][\"eval_metric\"],\n",
    "    \"eta\": df_sorted.iloc[0][\"eta\"],\n",
    "    \"max_depth\": df_sorted.iloc[0][\"max_depth\"],\n",
    "    \"grow_policy\": df_sorted.iloc[0][\"grow_policy\"],\n",
    "    \"max_leaves\": df_sorted.iloc[0][\"max_leaves\"],\n",
    "    \"min_child_weight\":  df_sorted.iloc[0][\"min_child_weight\"],\n",
    "    \"gamma\":  df_sorted.iloc[0][\"gamma\"],\n",
    "    \"subsample\":  df_sorted.iloc[0][\"subsample\"],\n",
    "    \"reg_lambda\" : df_sorted.iloc[0][\"reg_lambda\"],\n",
    "    \"colsample_bytree\": df_sorted.iloc[0][\"colsample_bytree\"],\n",
    "    \"reg_alpha\" : df_sorted.iloc[0][\"reg_alpha\"]\n",
    "}\n",
    "params"
   ]
  },
  {
   "cell_type": "code",
   "execution_count": 5,
   "id": "1bfca986",
   "metadata": {},
   "outputs": [
    {
     "data": {
      "text/plain": [
       "['immuno_precrem001Da_resultsY',\n",
       " 'immunopeptide_precrem_03Da_resultsB',\n",
       " 'immunopeptide_precrem_03Da_resultsY',\n",
       " 'immunopeptide_nonprocess_resultsB',\n",
       " 'immuno_precrem05Da_resultsB',\n",
       " 'immunopeptide_precrem_005Da_resultsY',\n",
       " 'immunopeptide_precrem_01Da_resultsY',\n",
       " 'immunopeptide_precrem_05Da_resultsY',\n",
       " 'immunopeptide_rankTIC_resultsB',\n",
       " 'immunopeptide_precrem_01Da_resultsB',\n",
       " 'immuno_precrem001Da_resultsB',\n",
       " 'immunopeptide_rankTIC_resultsY',\n",
       " 'immunopeptide_precrem_0025Da_resultsY',\n",
       " 'immunopeptide_precrem_0025Da_resultsB',\n",
       " 'immunopeptide_rank_highestpeak_resultsB',\n",
       " 'immunopeptide_non_process_resultsY',\n",
       " 'immunopeptide_precrem_005Da_resultsB',\n",
       " 'immunopeptide_rank_highestpeak_resultsY']"
      ]
     },
     "execution_count": 5,
     "metadata": {},
     "output_type": "execute_result"
    }
   ],
   "source": [
    "results_files = [file for file in glob.glob(\"*results*\")]\n",
    "results_files"
   ]
  },
  {
   "cell_type": "code",
   "execution_count": 23,
   "id": "43ae5947",
   "metadata": {},
   "outputs": [],
   "source": [
    "results_files_ordered = ['immunopeptide_non-process_resultsB',\n",
    " 'immunopeptide_non-process_resultsY',\n",
    "'immunopeptide_precrem_0025Da_resultsB',\n",
    " 'immunopeptide_precrem_0025Da_resultsY',\n",
    " 'immunopeptide_precrem_005Da_resultsB',\n",
    "'immunopeptide_precrem_005Da_resultsY',\n",
    "'immunopeptide_precrem_01Da_resultsB',\n",
    " 'immunopeptide_precrem_01Da_resultsY',\n",
    " 'immunopeptide_precrem_03Da_resultsB',\n",
    " 'immunopeptide_precrem_03Da_resultsY',\n",
    " 'immuno_precrem_05Da_resultsB',\n",
    "  'immunopeptide_precrem_05Da_resultsY',\n",
    " 'immunopeptide_rankTIC_resultsB',\n",
    "'immunopeptide_rankTIC_resultsY',\n",
    " 'immunopeptide_rank_highestpeak_resultsY',\n",
    "  'immunopeptide_rank_highestpeak_resultsB']"
   ]
  },
  {
   "cell_type": "code",
   "execution_count": 24,
   "id": "65b82c18",
   "metadata": {},
   "outputs": [],
   "source": [
    "def extract_results(file):\n",
    "    df =  pd.read_csv(file)\n",
    "    #df_sorted = df.sort_values(by=['test-rmse-mean'], ascending=True)\n",
    "    prepro = file.split(\"_\")[-2]\n",
    "    ion = file[-1]\n",
    "    df[\"pre-processing\"] = [prepro]*len(df)\n",
    "    df[\"ion_type\"] = [ion]*len(df)\n",
    "    return df"
   ]
  },
  {
   "cell_type": "code",
   "execution_count": 25,
   "id": "2af56431",
   "metadata": {},
   "outputs": [],
   "source": [
    "df_list = []\n",
    "for file in results_files_ordered:\n",
    "    df_list.append(extract_results(file))\n",
    "hyperopt_results = pd.concat(df_list)"
   ]
  },
  {
   "cell_type": "code",
   "execution_count": 29,
   "id": "5cb26413",
   "metadata": {},
   "outputs": [
    {
     "data": {
      "text/plain": [
       "<seaborn.axisgrid.FacetGrid at 0x7fc523037f10>"
      ]
     },
     "execution_count": 29,
     "metadata": {},
     "output_type": "execute_result"
    },
    {
     "data": {
      "text/plain": [
       "<Figure size 10080x7200 with 0 Axes>"
      ]
     },
     "metadata": {},
     "output_type": "display_data"
    },
    {
     "data": {
      "image/png": "[encoded data removed]",
      "text/plain": [
       "<Figure size 1204.17x576 with 1 Axes>"
      ]
     },
     "metadata": {},
     "output_type": "display_data"
    }
   ],
   "source": [
    "plt.figure(figsize = (140,100))\n",
    "sns.set(style=\"white\")\n",
    "sns.catplot(x=\"pre-processing\", y = \"test-rmse-mean\",hue=\"ion_type\", kind = \"box\",data=hyperopt_results, height=8, aspect=2)\n",
    "#fig = plt.figure(figsize = (1400,400))\n"
   ]
  },
  {
   "cell_type": "code",
   "execution_count": 30,
   "id": "75c62a64",
   "metadata": {},
   "outputs": [],
   "source": [
    "def extract_best_results(file):\n",
    "    df =  pd.read_csv(file)\n",
    "    df_sorted = df.sort_values(by=['test-rmse-mean'], ascending=True)\n",
    "    prepro = file.split(\"_\")[-2]\n",
    "    ion = file[-1]\n",
    "    df_sorted[\"pre-processing\"] = [prepro]*len(df)\n",
    "    df_sorted[\"ion_type\"] = [ion]*len(df)\n",
    "    return pd.DataFrame(df_sorted.iloc[0]).T"
   ]
  },
  {
   "cell_type": "code",
   "execution_count": 31,
   "id": "31ed11d5",
   "metadata": {},
   "outputs": [],
   "source": [
    "df_list = []\n",
    "for file in results_files_ordered:\n",
    "    df_list.append(extract_best_results(file))\n",
    "hyperopt_results = pd.concat(df_list)"
   ]
  },
  {
   "cell_type": "code",
   "execution_count": 36,
   "id": "8ccb65ff",
   "metadata": {},
   "outputs": [
    {
     "data": {
      "text/plain": [
       "<seaborn.axisgrid.FacetGrid at 0x7fc522c74d50>"
      ]
     },
     "execution_count": 36,
     "metadata": {},
     "output_type": "execute_result"
    },
    {
     "data": {
      "image/png": "[encoded data removed]",
      "text/plain": [
       "<Figure size 592.175x360 with 1 Axes>"
      ]
     },
     "metadata": {},
     "output_type": "display_data"
    }
   ],
   "source": [
    "sns.catplot(x=\"pre-processing\", y = \"test-rmse-mean\", hue=\"ion_type\", data=hyperopt_results, height=5, aspect=1.5)"
   ]
  }
 ],
 "metadata": {
  "kernelspec": {
   "display_name": "Python 3",
   "language": "python",
   "name": "python3"
  },
  "language_info": {
   "codemirror_mode": {
    "name": "ipython",
    "version": 3
   },
   "file_extension": ".py",
   "mimetype": "text/x-python",
   "name": "python",
   "nbconvert_exporter": "python",
   "pygments_lexer": "ipython3",
   "version": "3.7.10"
  }
 },
 "nbformat": 4,
 "nbformat_minor": 5
}
